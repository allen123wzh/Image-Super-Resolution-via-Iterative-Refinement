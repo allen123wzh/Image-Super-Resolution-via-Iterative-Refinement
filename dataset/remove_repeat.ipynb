{
 "cells": [
  {
   "cell_type": "code",
   "execution_count": 2,
   "metadata": {},
   "outputs": [],
   "source": [
    "from pathlib import Path\n",
    "import os\n",
    "from torchvision.transforms import functional as F\n",
    "from PIL import Image"
   ]
  },
  {
   "cell_type": "code",
   "execution_count": 38,
   "metadata": {},
   "outputs": [],
   "source": [
    "def remove_repeat_files(train_folder, val_folder):\n",
    "    train_filenames = [p.name for p in Path('{}'.format(train_folder)).glob(f'**/*')]\n",
    "    val_filenames = [p.name for p in Path('{}'.format(val_folder)).glob(f'**/*')]\n",
    "    \n",
    "    i = 0\n",
    "    for val_filename in val_filenames:\n",
    "        if val_filename in train_filenames:\n",
    "            os.remove(f'{train_folder}/{val_filename}')\n",
    "            i+=1\n",
    "    \n",
    "    return i"
   ]
  },
  {
   "cell_type": "code",
   "execution_count": 39,
   "metadata": {},
   "outputs": [
    {
     "data": {
      "text/plain": [
       "0"
      ]
     },
     "execution_count": 39,
     "metadata": {},
     "output_type": "execute_result"
    }
   ],
   "source": [
    "remove_repeat_files(\"/home/allen/Documents/MIE288/sr3_server4/data/fuse/m3fd_detect_768_576/lr\",\n",
    "                    \"/home/allen/Documents/MIE288/sr3_server4/data/fuse/m3fd_fusion_768_576/lr\")"
   ]
  },
  {
   "cell_type": "code",
   "execution_count": 26,
   "metadata": {},
   "outputs": [],
   "source": [
    "original_name_folder = \"/home/allen/Documents/MIE288/sr3_server4/data/fuse/m3fd_fusion/hr\"\n",
    "inf_name_folder = \"/home/allen/Documents/MIE288/sr3_server4/experiments/INFER_m3fd_6M_512_231113_121603/fused\"\n",
    "\n",
    "original_name_files = [p for p in Path('{}'.format(original_name_folder)).glob(f'**/*')]\n",
    "original_name_files = sorted(original_name_files, key=lambda i: int(i.stem))"
   ]
  },
  {
   "cell_type": "code",
   "execution_count": 32,
   "metadata": {},
   "outputs": [],
   "source": [
    "for i in range(1, 301):\n",
    "    inf_fname = f'{inf_name_folder}/0_{i}_sr.png'\n",
    "    new_fname = f'{inf_name_folder}/{original_name_files[i-1].stem}.png'\n",
    "    os.rename(inf_fname, new_fname)\n",
    "    # print(inf_fname, new_fname)"
   ]
  },
  {
   "cell_type": "code",
   "execution_count": 30,
   "metadata": {},
   "outputs": [
    {
     "data": {
      "text/plain": [
       "'00000'"
      ]
     },
     "execution_count": 30,
     "metadata": {},
     "output_type": "execute_result"
    }
   ],
   "source": [
    "original_name_files[0].stem"
   ]
  }
 ],
 "metadata": {
  "kernelspec": {
   "display_name": "sr3",
   "language": "python",
   "name": "python3"
  },
  "language_info": {
   "codemirror_mode": {
    "name": "ipython",
    "version": 3
   },
   "file_extension": ".py",
   "mimetype": "text/x-python",
   "name": "python",
   "nbconvert_exporter": "python",
   "pygments_lexer": "ipython3",
   "version": "3.10.13"
  }
 },
 "nbformat": 4,
 "nbformat_minor": 2
}
